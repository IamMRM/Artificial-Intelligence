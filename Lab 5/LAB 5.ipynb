{
 "cells": [
  {
   "cell_type": "code",
   "execution_count": 1,
   "metadata": {},
   "outputs": [],
   "source": [
    "#Importing Libraries\n",
    "from PIL import Image, ImageDraw\n",
    "import itertools\n",
    "import numpy as np"
   ]
  },
  {
   "cell_type": "code",
   "execution_count": 2,
   "metadata": {},
   "outputs": [],
   "source": [
    "#PREPROCESSING\n",
    "img = Image.open(\"sign.jpg\")\n",
    "img= img.convert('L') # convert image to 8 bit black and white\n",
    "image_file = Image.new( img.mode, img.size)\n",
    "pixelsNew = image_file.load()\n",
    "for x,y in itertools.product(range(0,img.size[0]),range(0,img.size[1])):\n",
    "    color = img.getpixel((x,y))\n",
    "    if color>=125:\n",
    "        pixelsNew[(x, y)]= 255\n",
    "    else:\n",
    "        pixelsNew[(x, y)] = 0\n",
    "#Now image_file is converted to 1 bit black and white image"
   ]
  },
  {
   "cell_type": "code",
   "execution_count": 3,
   "metadata": {},
   "outputs": [],
   "source": [
    "#defining bounding box for the image\n",
    "def coordinates(image_file):\n",
    "    left,top= image_file.size#widthxheight\n",
    "    right,bottom = 0,0\n",
    "    for x,y in itertools.product(range(0,image_file.size[0]),range(0,image_file.size[1])):\n",
    "        color = image_file.getpixel((x,y))\n",
    "        if color is 0:\n",
    "            if x>right:\n",
    "                right = x\n",
    "            if x<left:\n",
    "                left =x\n",
    "            if y>bottom:\n",
    "                bottom = y\n",
    "            if y<top:\n",
    "                top = y\n",
    "    return left,right,top,bottom"
   ]
  },
  {
   "cell_type": "code",
   "execution_count": 4,
   "metadata": {},
   "outputs": [],
   "source": [
    "#TASK 2\n",
    "#FInding centroid of the image defined by the dimentions\n",
    "def centroid(image_file,left,right,top,bottom):\n",
    "    width =abs(left-right)\n",
    "    height= abs(top-bottom)\n",
    "    cx = left\n",
    "    cy = top\n",
    "    n=1  #as we don't divide by 0 \n",
    "    for x,y in itertools.product(range(width),range(height)):\n",
    "        try:\n",
    "            if image_file.getpixel((x+left,y+top)) is 0:\n",
    "                cx+=left+x\n",
    "                cy+=top+y\n",
    "                n+=1\n",
    "        except:\n",
    "            print(\"Image index out of bound\")\n",
    "    if(n>1):\n",
    "        n -= 1  #for accuracy\n",
    "    cx=cx//n\n",
    "    cy=cy//n\n",
    "    return cx,cy"
   ]
  },
  {
   "cell_type": "code",
   "execution_count": 5,
   "metadata": {},
   "outputs": [],
   "source": [
    "#white transaction\n",
    "def whitetrans(image_file,left,right,top,bottom):\n",
    "    width=abs(right-left)\n",
    "    height=abs(bottom-top)\n",
    "    prev = image_file.getpixel((0,0))\n",
    "    n=0\n",
    "    for x,y in itertools.product(range(left+1,right,-1),range(top+1,bottom-1)):\n",
    "        cur = image_file.getpixel((x,y))\n",
    "        if cur is 255 and prev is 0:\n",
    "            n=n+1\n",
    "        prev = cur\n",
    "    return n"
   ]
  },
  {
   "cell_type": "code",
   "execution_count": 6,
   "metadata": {},
   "outputs": [],
   "source": [
    "def findRatio(left,right,top,bottom):\n",
    "    width=abs(right-left)\n",
    "    height=abs(bottom-top)\n",
    "    if height == 0:\n",
    "        return 0\n",
    "    return width/height"
   ]
  },
  {
   "cell_type": "code",
   "execution_count": 7,
   "metadata": {},
   "outputs": [],
   "source": [
    "#TASK 3\n",
    "t=[]\n",
    "r=[]\n",
    "centr =[]\n",
    "def split(image_file,left, right, top, bottom, depth=0):\n",
    "    cx,cy=centroid(image_file,left,right,top,bottom)\n",
    "    if depth < 3:\n",
    "        split(image_file, left, cx, top, cy, depth + 1)\n",
    "        split(image_file, cx, right, top, cy, depth + 1)\n",
    "        split(image_file, left, cx, cy, bottom, depth + 1)\n",
    "        split(image_file, cx, right, cy, bottom, depth + 1)\n",
    "    else:\n",
    "        t.append(whitetrans(image_file, left, right, top, bottom))\n",
    "        r.append(findRatio(left,right,top,bottom))\n",
    "        centr.append(str(cx)+\" \"+str(cy))\n",
    "    draw = ImageDraw.Draw(image_file)\n",
    "    draw.rectangle(((left, top), (right, bottom)))#drawing lines on image"
   ]
  },
  {
   "cell_type": "code",
   "execution_count": 8,
   "metadata": {},
   "outputs": [],
   "source": [
    "left,right,top,bottom = coordinates(image_file) \n",
    "split(image_file,left,right,top,bottom)\n",
    "#saving them in files\n",
    "np.savetxt(\"transaction.txt\", t, delimiter='\\n',fmt='%d')\n",
    "np.savetxt(\"Aspectratio.txt\", r, delimiter='\\n',fmt='%d')\n",
    "np.savetxt(\"Center.txt\", centr, delimiter='\\n',fmt='%s')\n",
    "image_file.show()"
   ]
  },
  {
   "cell_type": "code",
   "execution_count": 9,
   "metadata": {},
   "outputs": [],
   "source": [
    "#END"
   ]
  }
 ],
 "metadata": {
  "kernelspec": {
   "display_name": "Python 2",
   "language": "python",
   "name": "python2"
  },
  "language_info": {
   "codemirror_mode": {
    "name": "ipython",
    "version": 2
   },
   "file_extension": ".py",
   "mimetype": "text/x-python",
   "name": "python",
   "nbconvert_exporter": "python",
   "pygments_lexer": "ipython2",
   "version": "2.7.15"
  }
 },
 "nbformat": 4,
 "nbformat_minor": 2
}
