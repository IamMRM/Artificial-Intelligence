{
 "cells": [
  {
   "cell_type": "code",
   "execution_count": 1,
   "metadata": {},
   "outputs": [],
   "source": [
    "from PIL import Image"
   ]
  },
  {
   "cell_type": "code",
   "execution_count": 2,
   "metadata": {},
   "outputs": [],
   "source": [
    "#PREPROCESSING\n",
    "image_file = Image.open(\"sign.jpg\")\n",
    "image_file= image_file.convert('1') # convert image to black and white\n",
    "image_file.show()"
   ]
  },
  {
   "cell_type": "code",
   "execution_count": 3,
   "metadata": {},
   "outputs": [
    {
     "name": "stdout",
     "output_type": "stream",
     "text": [
      "(130, 735, 45, 556)\n"
     ]
    }
   ],
   "source": [
    "#TASK 1\n",
    "import itertools\n",
    "left,top= image_file.size\n",
    "right,bottom = 0,0\n",
    "for x,y in itertools.product(range(0,image_file.size[0]),range(0,image_file.size[1])):\n",
    "    color = image_file.getpixel((x,y))\n",
    "    if color is 0:\n",
    "        if x>right:\n",
    "            right = x\n",
    "        if x<left:\n",
    "            left =x\n",
    "        if y>bottom:\n",
    "            bottom = y\n",
    "        if y<top:\n",
    "            top = y\n",
    "print (left,right,top,bottom)"
   ]
  },
  {
   "cell_type": "code",
   "execution_count": 4,
   "metadata": {},
   "outputs": [
    {
     "name": "stdout",
     "output_type": "stream",
     "text": [
      "(441, 301)\n"
     ]
    }
   ],
   "source": [
    "#TASK 2\n",
    "cx=0\n",
    "cy=0\n",
    "n=0\n",
    "for x,y in itertools.product(range(0,image_file.size[0]),range(0,image_file.size[1])):\n",
    "    if image_file.getpixel((x,y)) is 0:\n",
    "        cx=cx+x\n",
    "        cy=cy+y\n",
    "        n=n+1\n",
    "cx=cx/n\n",
    "cy=cy/n\n",
    "print(cx,cy)"
   ]
  },
  {
   "cell_type": "code",
   "execution_count": 5,
   "metadata": {},
   "outputs": [],
   "source": [
    "#TASK 3\n",
    "from PIL import Image, ImageDraw\n",
    "draw = ImageDraw.Draw(image_file)\n",
    "draw.rectangle(((left, top), (cx, cy)))\n",
    "draw.rectangle(((right,top), (cx, cy)))\n",
    "draw.rectangle(((left, bottom) ,(cx, cy) ))\n",
    "draw.rectangle(((right, bottom) ,(cx, cy) ))\n",
    "\n",
    "image_file.show()"
   ]
  },
  {
   "cell_type": "code",
   "execution_count": 188,
   "metadata": {},
   "outputs": [
    {
     "name": "stdout",
     "output_type": "stream",
     "text": [
      "130 45 735 556\n"
     ]
    }
   ],
   "source": [
    "#TASK 3 CROP CODE\n",
    "#image_file.crop([left,top,right,bottom]).save(\"new.jpg\")"
   ]
  },
  {
   "cell_type": "code",
   "execution_count": 6,
   "metadata": {},
   "outputs": [],
   "source": [
    "def whitetrans(left,right,top,bottom):\n",
    "    width=right-left\n",
    "    height=bottom-top\n",
    "    prev = image_file.getpixel((0,0))\n",
    "    n=0\n",
    "    for x,y in itertools.product(range(1,width),range(1,height)):\n",
    "        cur = image_file.getpixel((x,y))\n",
    "        if cur is 255 and prev is 0:\n",
    "            n=n+1\n",
    "        prev = cur\n",
    "        \n",
    "    return n"
   ]
  },
  {
   "cell_type": "code",
   "execution_count": 7,
   "metadata": {},
   "outputs": [
    {
     "name": "stdout",
     "output_type": "stream",
     "text": [
      "181\n",
      "164\n",
      "181\n",
      "164\n"
     ]
    }
   ],
   "source": [
    "#TASK 4\n",
    "print (whitetrans(left, cx, top, cy))\n",
    "print (whitetrans(cx, right, top, cy))\n",
    "print (whitetrans(left,cx,cy,bottom))\n",
    "print (whitetrans(cx,right,cy,bottom))"
   ]
  },
  {
   "cell_type": "code",
   "execution_count": 268,
   "metadata": {},
   "outputs": [],
   "source": [
    "#THE END"
   ]
  }
 ],
 "metadata": {
  "kernelspec": {
   "display_name": "Python 2",
   "language": "python",
   "name": "python2"
  },
  "language_info": {
   "codemirror_mode": {
    "name": "ipython",
    "version": 2
   },
   "file_extension": ".py",
   "mimetype": "text/x-python",
   "name": "python",
   "nbconvert_exporter": "python",
   "pygments_lexer": "ipython2",
   "version": "2.7.15"
  }
 },
 "nbformat": 4,
 "nbformat_minor": 2
}
