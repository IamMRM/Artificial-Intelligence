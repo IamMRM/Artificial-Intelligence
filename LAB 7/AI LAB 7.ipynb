{
 "cells": [
  {
   "cell_type": "code",
   "execution_count": 86,
   "metadata": {},
   "outputs": [],
   "source": [
    "import pandas as pd\n",
    "from pandas import DataFrame"
   ]
  },
  {
   "cell_type": "code",
   "execution_count": 108,
   "metadata": {},
   "outputs": [],
   "source": [
    "train = pd.read_csv('labeledTrainData.csv', header=0, delimiter='\\t', quoting=3)"
   ]
  },
  {
   "cell_type": "code",
   "execution_count": 109,
   "metadata": {},
   "outputs": [],
   "source": [
    "                    #How is the data stored in the variable ‘train’?\n",
    "#ANSWER: the data is stored in the form of table as rows and columns. Each row represent a new data set whereas\n",
    "        #each column represents the attributes that are required in each data set.\n",
    "    \n",
    "                    #What is the shape of the variable ‘train’?\n",
    "#ANSWER: Train variable which I converted to dataframe is of shape 25000 rows x 3 columns\n",
    "\n",
    "                    #How do you read the first few reviews from the variable ‘train’?\n",
    "#ANSWER: With this code we can read any number of reviews with pandas.\n",
    "#        df = pd.DataFrame(train)\n",
    "#        df_t = df.transpose()\n",
    "#        for i in range(0,3):\n",
    "#            print(df_t[i])"
   ]
  },
  {
   "cell_type": "code",
   "execution_count": 61,
   "metadata": {},
   "outputs": [],
   "source": [
    "from bs4 import BeautifulSoup \n",
    "import nltk"
   ]
  },
  {
   "cell_type": "code",
   "execution_count": 62,
   "metadata": {
    "scrolled": true
   },
   "outputs": [
    {
     "name": "stdout",
     "output_type": "stream",
     "text": [
      "[nltk_data] Error loading stopwords: <urlopen error [Errno 10060] A\n",
      "[nltk_data]     connection attempt failed because the connected party\n",
      "[nltk_data]     did not properly respond after a period of time, or\n",
      "[nltk_data]     established connection failed because connected host\n",
      "[nltk_data]     has failed to respond>\n"
     ]
    },
    {
     "data": {
      "text/plain": [
       "False"
      ]
     },
     "execution_count": 62,
     "metadata": {},
     "output_type": "execute_result"
    }
   ],
   "source": [
    "nltk.download('stopwords')\n",
    "from nltk.corpus import stopwords\n",
    "stopwords.words('english')"
   ]
  },
  {
   "cell_type": "code",
   "execution_count": 110,
   "metadata": {},
   "outputs": [],
   "source": [
    "def review_to_words(df):\n",
    "    r= len((df[\"review\"]))\n",
    "    sent = []\n",
    "    for i in range(0,r):\n",
    "        example1 = BeautifulSoup(df[\"review\"][i])\n",
    "        a = example1.get_text()\n",
    "        b_ = re.sub('[\\/\\,\\!\\\\\\^\\$\\{\\}\\[\\]\\(\\)\\.\\*\\+\\?\\|\\<\\>\\-\\&\\\"]',\" \",a)\n",
    "        words = b_.lower().split()\n",
    "        words = [w for w in words if not w in stops]\n",
    "        sentence = \" \".join(words);\n",
    "        rep_colon = re.sub('[:]',\"\",sentence)\n",
    "        sent.append(rep_colon)\n",
    "    return sent"
   ]
  },
  {
   "cell_type": "code",
   "execution_count": 113,
   "metadata": {},
   "outputs": [],
   "source": [
    "df = pd.DataFrame(train)\n",
    "li =review_to_words(df)"
   ]
  },
  {
   "cell_type": "code",
   "execution_count": 112,
   "metadata": {},
   "outputs": [],
   "source": [
    "#END"
   ]
  }
 ],
 "metadata": {
  "kernelspec": {
   "display_name": "Python 2",
   "language": "python",
   "name": "python2"
  },
  "language_info": {
   "codemirror_mode": {
    "name": "ipython",
    "version": 2
   },
   "file_extension": ".py",
   "mimetype": "text/x-python",
   "name": "python",
   "nbconvert_exporter": "python",
   "pygments_lexer": "ipython2",
   "version": "2.7.15"
  }
 },
 "nbformat": 4,
 "nbformat_minor": 2
}
